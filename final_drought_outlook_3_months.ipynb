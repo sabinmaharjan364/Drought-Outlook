{
 "cells": [
  {
   "cell_type": "code",
   "execution_count": 1,
   "metadata": {},
   "outputs": [],
   "source": [
    "import os\n",
    "import numpy as np\n",
    "import xarray as xr\n",
    "import pandas as pd\n",
    "from functools import partial\n",
    "from joblib import Parallel, delayed\n",
    "import multiprocessing\n",
    "from pathos.multiprocessing import ProcessingPool as Pool\n",
    "import matplotlib.pyplot as plt\n",
    "from IPython.display import display\n",
    "# Load the ncdf4 package\n",
    "import netCDF4 as nc\n",
    "import rasterio\n",
    "from shapely.geometry import Point\n",
    "import geopandas as gpd\n",
    "from rasterio.transform import from_origin\n",
    "from rasterio.features import rasterize\n",
    "from rasterio.transform import from_bounds"
   ]
  },
  {
   "cell_type": "markdown",
   "metadata": {},
   "source": [
    "## File path and settings"
   ]
  },
  {
   "cell_type": "code",
   "execution_count": 2,
   "metadata": {},
   "outputs": [],
   "source": [
    "# Set the file paths\n",
    "ncname_cdi = \"/Users/sabinmaharjan/projects/python/do/static/file/cdi_1.nc\"\n",
    "ncname_rain = \"/Users/sabinmaharjan/projects/python/do/static/file/p_atmos_q5_pr_s_maq5_pumedian_20240501_rt.nc\"\n",
    "\n"
   ]
  },
  {
   "cell_type": "markdown",
   "metadata": {},
   "source": [
    "# Get the average of 3 month"
   ]
  },
  {
   "cell_type": "code",
   "execution_count": 3,
   "metadata": {},
   "outputs": [
    {
     "name": "stdout",
     "output_type": "stream",
     "text": [
      "(691, 886)\n",
      "June\n",
      "New file saved as: /Users/sabinmaharjan/projects/python/do/static/file/APP2024_June_average.nc\n"
     ]
    }
   ],
   "source": [
    "# Open the rain forecast data\n",
    "ds2 = xr.open_dataset(ncname_rain)\n",
    "rain_var = ds2[\"percentage_of_ensembles\"]\n",
    "\n",
    "# Extract the data for the first three months\n",
    "first_three_months = rain_var[1, :3, :, :]\n",
    "\n",
    "# Calculate the average across the first three months\n",
    "rain_avg = first_three_months.mean(dim=\"time\")\n",
    "print(rain_avg.shape)\n",
    "# Get the latitude and longitude coordinates\n",
    "lats = ds2.lat\n",
    "lons = ds2.lon\n",
    "\n",
    "# Get the time coordinate from first_three_months\n",
    "time = first_three_months.time.values\n",
    "\n",
    "time_r = time[1]\n",
    "\n",
    "\n",
    "# Convert the time value to a datetime object\n",
    "time_r = pd.to_datetime(time_r)\n",
    "\n",
    "\n",
    "# Extract the month name from the datetime object\n",
    "\n",
    "month_name = time_r.strftime('%B')\n",
    "print(month_name)\n",
    "# Create a new Dataset with the averaged rain data and time as a separate variable\n",
    "ds_avg = xr.Dataset(\n",
    "    {\n",
    "        \"rain\": ((\"lat\", \"lon\"), rain_avg.values),\n",
    "        \"time\": time,\n",
    "    },\n",
    "    coords={\"lat\": lats, \"lon\": lons},\n",
    ")\n",
    "\n",
    "# Rename 'lat' to 'latitude' and 'lon' to 'longitude'\n",
    "ds_avg = ds_avg.rename({'lat': 'latitude', 'lon': 'longitude'})\n",
    "\n",
    "# Convert latitude and longitude variables to double and round their values\n",
    "ds_avg['latitude'] = ds_avg['latitude'].astype('double')\n",
    "ds_avg['longitude'] = ds_avg['longitude'].astype('double')\n",
    "ds_avg['latitude'] = ds_avg['latitude'].round(decimals=2)\n",
    "ds_avg['longitude'] = ds_avg['longitude'].round(decimals=2)\n",
    "\n",
    "ncname_rain_final = \"/Users/sabinmaharjan/projects/python/do/static/file/APP2024_\"+month_name+\"_average.nc\"\n",
    "\n",
    "\n",
    "# Save the modified dataset to a new NetCDF file\n",
    "ds_avg.to_netcdf(ncname_rain_final)\n",
    "print(f\"New file saved as: {ncname_rain_final}\")"
   ]
  },
  {
   "cell_type": "markdown",
   "metadata": {},
   "source": [
    "## Reading CDI data and creating dataframe"
   ]
  },
  {
   "cell_type": "code",
   "execution_count": 4,
   "metadata": {},
   "outputs": [
    {
     "name": "stdout",
     "output_type": "stream",
     "text": [
      "(681, 841)\n",
      "(572721, 3)\n"
     ]
    }
   ],
   "source": [
    "\n",
    "# Open the first NetCDF file\n",
    "\n",
    "ds1 = xr.open_dataset(ncname_cdi)\n",
    " \n",
    "# Get longitude and latitude\n",
    "lon = ds1[\"longitude\"].values\n",
    "lat = ds1[\"latitude\"].values\n",
    " \n",
    "# Get cdi\n",
    "dname1 = \"cdi\"\n",
    "cdi_array = ds1[dname1].values\n",
    " \n",
    "# Get a single slice or layer\n",
    "cdi_slice = cdi_array[:, :, 305]  # Assuming 305 is the index of the slice you want\n",
    "\n",
    "\n",
    "cdi_vec = np.ravel(cdi_slice)\n",
    " \n",
    "# Create DataFrame for cdi data\n",
    "lon_grid, lat_grid = np.meshgrid(lon, lat)\n",
    "cdi_df = pd.DataFrame({'lon': lon_grid.flatten(), 'lat': lat_grid.flatten(), 'cdi': cdi_vec})\n",
    "\n",
    "\n",
    "print(cdi_slice.shape)\n",
    "print(cdi_df.shape)\n",
    "\n",
    "# Open the second NetCDF file\n"
   ]
  },
  {
   "cell_type": "code",
   "execution_count": 5,
   "metadata": {},
   "outputs": [
    {
     "name": "stdout",
     "output_type": "stream",
     "text": [
      "/Users/sabinmaharjan/projects/python/do/static/file/APP2024_June_average.nc\n",
      "DatetimeIndex(['2024-05-16 12:00:00', '2024-06-16 00:00:00',\n",
      "               '2024-07-16 12:00:00'],\n",
      "              dtype='datetime64[ns]', freq=None)\n",
      "(612226, 3)\n",
      "First month: May\n"
     ]
    }
   ],
   "source": [
    "print(ncname_rain_final)\n",
    "ds2 = xr.open_dataset(ncname_rain_final)\n",
    " \n",
    "# Get longitude and latitude\n",
    "lon_r = ds2[\"longitude\"].values\n",
    "lat_r = ds2[\"latitude\"].values\n",
    "rain_avg=ds2[\"rain\"].values\n",
    "# Get rain\n",
    "\n",
    "time_r=ds2[\"time\"].values\n",
    "\n",
    "rain_vec = np.ravel(rain_avg)\n",
    " \n",
    "# Create DataFrame for rain data\n",
    "lon_grid, lat_grid = np.meshgrid(lon_r, lat_r)\n",
    "\n",
    "rain_df = pd.DataFrame({'lat': lat_grid.flatten(), 'lon': lon_grid.flatten(), 'rain': rain_vec})\n",
    "\n",
    "# rain_df= rain_df.replace(np.nan, 'NA', regex=True)\n",
    "\n",
    "\n",
    "\n",
    "\n",
    "print(\"First month:\", month_name)\n",
    "\n"
   ]
  },
  {
   "cell_type": "markdown",
   "metadata": {},
   "source": [
    "## merging CDI and forecast using lat and lon"
   ]
  },
  {
   "cell_type": "code",
   "execution_count": 6,
   "metadata": {},
   "outputs": [
    {
     "name": "stdout",
     "output_type": "stream",
     "text": [
      "(572721, 4)\n",
      "join_df.head(10)\n"
     ]
    },
    {
     "data": {
      "text/html": [
       "<div>\n",
       "<style scoped>\n",
       "    .dataframe tbody tr th:only-of-type {\n",
       "        vertical-align: middle;\n",
       "    }\n",
       "\n",
       "    .dataframe tbody tr th {\n",
       "        vertical-align: top;\n",
       "    }\n",
       "\n",
       "    .dataframe thead th {\n",
       "        text-align: right;\n",
       "    }\n",
       "</style>\n",
       "<table border=\"1\" class=\"dataframe\">\n",
       "  <thead>\n",
       "    <tr style=\"text-align: right;\">\n",
       "      <th></th>\n",
       "      <th>lon</th>\n",
       "      <th>lat</th>\n",
       "      <th>cdi</th>\n",
       "      <th>rain</th>\n",
       "    </tr>\n",
       "  </thead>\n",
       "  <tbody>\n",
       "    <tr>\n",
       "      <th>0</th>\n",
       "      <td>112.00</td>\n",
       "      <td>-44.0</td>\n",
       "      <td>NaN</td>\n",
       "      <td>NaN</td>\n",
       "    </tr>\n",
       "    <tr>\n",
       "      <th>1</th>\n",
       "      <td>112.05</td>\n",
       "      <td>-44.0</td>\n",
       "      <td>NaN</td>\n",
       "      <td>NaN</td>\n",
       "    </tr>\n",
       "    <tr>\n",
       "      <th>2</th>\n",
       "      <td>112.10</td>\n",
       "      <td>-44.0</td>\n",
       "      <td>NaN</td>\n",
       "      <td>NaN</td>\n",
       "    </tr>\n",
       "    <tr>\n",
       "      <th>3</th>\n",
       "      <td>112.15</td>\n",
       "      <td>-44.0</td>\n",
       "      <td>NaN</td>\n",
       "      <td>NaN</td>\n",
       "    </tr>\n",
       "    <tr>\n",
       "      <th>4</th>\n",
       "      <td>112.20</td>\n",
       "      <td>-44.0</td>\n",
       "      <td>NaN</td>\n",
       "      <td>NaN</td>\n",
       "    </tr>\n",
       "    <tr>\n",
       "      <th>...</th>\n",
       "      <td>...</td>\n",
       "      <td>...</td>\n",
       "      <td>...</td>\n",
       "      <td>...</td>\n",
       "    </tr>\n",
       "    <tr>\n",
       "      <th>572716</th>\n",
       "      <td>153.80</td>\n",
       "      <td>-10.0</td>\n",
       "      <td>NaN</td>\n",
       "      <td>NaN</td>\n",
       "    </tr>\n",
       "    <tr>\n",
       "      <th>572717</th>\n",
       "      <td>153.85</td>\n",
       "      <td>-10.0</td>\n",
       "      <td>NaN</td>\n",
       "      <td>NaN</td>\n",
       "    </tr>\n",
       "    <tr>\n",
       "      <th>572718</th>\n",
       "      <td>153.90</td>\n",
       "      <td>-10.0</td>\n",
       "      <td>NaN</td>\n",
       "      <td>NaN</td>\n",
       "    </tr>\n",
       "    <tr>\n",
       "      <th>572719</th>\n",
       "      <td>153.95</td>\n",
       "      <td>-10.0</td>\n",
       "      <td>NaN</td>\n",
       "      <td>NaN</td>\n",
       "    </tr>\n",
       "    <tr>\n",
       "      <th>572720</th>\n",
       "      <td>154.00</td>\n",
       "      <td>-10.0</td>\n",
       "      <td>NaN</td>\n",
       "      <td>NaN</td>\n",
       "    </tr>\n",
       "  </tbody>\n",
       "</table>\n",
       "<p>572721 rows × 4 columns</p>\n",
       "</div>"
      ],
      "text/plain": [
       "           lon   lat  cdi  rain\n",
       "0       112.00 -44.0  NaN   NaN\n",
       "1       112.05 -44.0  NaN   NaN\n",
       "2       112.10 -44.0  NaN   NaN\n",
       "3       112.15 -44.0  NaN   NaN\n",
       "4       112.20 -44.0  NaN   NaN\n",
       "...        ...   ...  ...   ...\n",
       "572716  153.80 -10.0  NaN   NaN\n",
       "572717  153.85 -10.0  NaN   NaN\n",
       "572718  153.90 -10.0  NaN   NaN\n",
       "572719  153.95 -10.0  NaN   NaN\n",
       "572720  154.00 -10.0  NaN   NaN\n",
       "\n",
       "[572721 rows x 4 columns]"
      ]
     },
     "metadata": {},
     "output_type": "display_data"
    },
    {
     "name": "stdout",
     "output_type": "stream",
     "text": [
      "Number of rows with NaN values: 590090\n",
      "Number of rows without NaN values: 1700794\n",
      "(273592, 4)\n",
      "Number of  NaN values: 0\n",
      "Number of NaN values: lon     273592\n",
      "lat     273592\n",
      "cdi     273592\n",
      "rain    273592\n",
      "dtype: int64\n"
     ]
    }
   ],
   "source": [
    "\n",
    "# Perform the merge\n",
    "join_df = cdi_df.merge(rain_df, how='left', on=['lon', 'lat'])\n",
    "# Merge DataFrames on longitude and latitude\n",
    "print(join_df.shape)\n",
    "# join_dims={\"lon\":\"lon\",\"lat\":\"lat\"}\n",
    "# tes=xr.merge([cdi_df,rain_df],join='left',compat=\"override\")\n",
    "print(\"join_df.head(10)\")\n",
    "display(join_df)\n",
    "# Count the number of rows with NaN values\n",
    "num_rows_with_nan = join_df.isna().sum().sum()\n",
    "\n",
    "# Count the number of rows without NaN values\n",
    "num_rows_without_nan = join_df.notna().sum().sum()\n",
    "\n",
    "print(f\"Number of rows with NaN values: {num_rows_with_nan}\")\n",
    "print(f\"Number of rows without NaN values: {num_rows_without_nan}\")\n",
    "\n",
    "rmna_df=join_df.dropna()\n",
    "print(rmna_df.shape)\n",
    "nan_count = rmna_df.isna().sum().sum()\n",
    "nan__cdi_count = rmna_df.notna().sum().sum()\n",
    "nan__cdi_count = rmna_df.notna().sum()\n",
    "print(\"Number of  NaN values:\", nan_count)\n",
    "print(\"Number of NaN values:\", nan__cdi_count)\n",
    "\n"
   ]
  },
  {
   "cell_type": "code",
   "execution_count": 7,
   "metadata": {},
   "outputs": [],
   "source": [
    "def classify_drought(row):\n",
    "    cdi, rain = row['cdi'], row['rain']\n",
    "    if cdi < 0.2:\n",
    "        if rain < 50:\n",
    "            if cdi < 0.02:\n",
    "                return 5  # Persists\n",
    "            else:\n",
    "                return 6  # Worsens\n",
    "        elif rain < 70:\n",
    "            return 5  # Persists\n",
    "        else:\n",
    "            if 0.1 <= cdi < 0.2:\n",
    "                return 2  # Removed\n",
    "            else:\n",
    "                return 3  # Improved\n",
    "    else:\n",
    "        if rain < 30:\n",
    "            return 4  # Develops\n",
    "        else:\n",
    "            return 1  # No drought"
   ]
  },
  {
   "cell_type": "code",
   "execution_count": 8,
   "metadata": {},
   "outputs": [
    {
     "name": "stdout",
     "output_type": "stream",
     "text": [
      "273592\n"
     ]
    }
   ],
   "source": [
    "ncell = len(rmna_df)\n",
    "\n",
    "ncores = min(multiprocessing.cpu_count(), 4) \n",
    "# Use pathos for multiprocessing\n",
    "with Pool(ncores) as p:\n",
    "    try:\n",
    "        classified = p.map(classify_drought, [rmna_df.iloc[i] for i in range(rmna_df.shape[0])])\n",
    "    except Exception as e:\n",
    "        print(f\"An error occurred during multiprocessing: {e}\")\n",
    "        p.close() # Close the pool\n",
    "        p.join() # Wait for the worker processes to exit\n",
    "        raise # Re-raise the exception\n",
    "\n",
    "print(len(classified))"
   ]
  },
  {
   "cell_type": "code",
   "execution_count": 9,
   "metadata": {},
   "outputs": [
    {
     "name": "stdout",
     "output_type": "stream",
     "text": [
      "273592\n",
      "1.0    235418\n",
      "4.0     19749\n",
      "6.0     12958\n",
      "5.0      5467\n",
      "Name: outlook, dtype: int64\n"
     ]
    }
   ],
   "source": [
    "# Create the dataframe df_out\n",
    "df_out = pd.DataFrame({ 'lat': cdi_df['lat'], 'lon': cdi_df['lon'],'outlook': np.nan})\n",
    "print(len(rmna_df.index))\n",
    "\n",
    "# Get the rows where NAs were removed\n",
    "order = rmna_df.index.astype(int)\n",
    "\n",
    "# Replace the category value\n",
    "classified = np.array(classified)\n",
    "df_out.loc[order, 'outlook'] = classified.astype(int)\n",
    "print(df_out['outlook'].value_counts())\n",
    "\n"
   ]
  },
  {
   "cell_type": "code",
   "execution_count": 10,
   "metadata": {},
   "outputs": [
    {
     "name": "stdout",
     "output_type": "stream",
     "text": [
      "(681, 841)\n",
      "841\n",
      "681\n"
     ]
    }
   ],
   "source": [
    "print(cdi_slice.shape)\n",
    "print(len(lon))\n",
    "print(len(lat))"
   ]
  },
  {
   "cell_type": "code",
   "execution_count": 11,
   "metadata": {},
   "outputs": [],
   "source": [
    "# Create a DataArray from the DataFrame\n",
    "da = xr.DataArray(df_out['outlook'].values.reshape(cdi_slice.shape),\n",
    "                 \n",
    "                  coords=[('lat', lat),('lon', lon)],\n",
    "                  name='outlook')\n",
    "\n",
    "# da = xr.DataArray(df_out['outlook'].values, coords=[('lon', cdi_df['lon']), ('lat', cdi_df['lat'])], dims=['lon', 'lat'])\n",
    "\n",
    "# Add attributes\n",
    "da.attrs['varunit'] = ''\n",
    "da.attrs['longname'] = 'drought outlook'\n",
    "\n",
    "# Create a Dataset from the DataArray\n",
    "ds = da.to_dataset()\n"
   ]
  },
  {
   "cell_type": "code",
   "execution_count": 12,
   "metadata": {},
   "outputs": [
    {
     "name": "stdout",
     "output_type": "stream",
     "text": [
      "file saved with name: /Users/sabinmaharjan/projects/python/do/static/result/nc/3_months/appMay_Final_2024.nc\n"
     ]
    }
   ],
   "source": [
    "# Save the Dataset as a NetCDF file\n",
    "\n",
    "out_ncname = \"/Users/sabinmaharjan/projects/python/do/static/result/nc/3_months/app\"+month_name+\"_Final_2024.nc\"\n",
    "\n",
    "try:\n",
    "    ds.to_netcdf(out_ncname)\n",
    "    print(f\"file saved with name: {out_ncname}\")\n",
    "except Exception as e:\n",
    "    print(f\"An error occurred while saving the Dataset: {e}\")"
   ]
  }
 ],
 "metadata": {
  "kernelspec": {
   "display_name": "Python 3",
   "language": "python",
   "name": "python3"
  },
  "language_info": {
   "codemirror_mode": {
    "name": "ipython",
    "version": 3
   },
   "file_extension": ".py",
   "mimetype": "text/x-python",
   "name": "python",
   "nbconvert_exporter": "python",
   "pygments_lexer": "ipython3",
   "version": "3.10.13"
  }
 },
 "nbformat": 4,
 "nbformat_minor": 2
}
