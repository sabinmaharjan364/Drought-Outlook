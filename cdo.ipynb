{
 "cells": [
  {
   "cell_type": "code",
   "execution_count": 48,
   "metadata": {},
   "outputs": [],
   "source": [
    "import os\n",
    "import numpy as np\n",
    "import xarray as xr\n",
    "import pandas as pd\n",
    "from functools import partial\n",
    "from joblib import Parallel, delayed\n",
    "from pathos.multiprocessing import ProcessingPool as Pool\n",
    "# Load the ncdf4 package\n",
    "import netCDF4 as nc\n",
    "import rasterio\n",
    "from shapely.geometry import Point\n",
    "import geopandas as gpd\n",
    "from rasterio.transform import from_origin\n",
    "from rasterio.features import rasterize\n",
    "from rasterio.transform import from_bounds"
   ]
  },
  {
   "cell_type": "markdown",
   "metadata": {},
   "source": [
    "## File path and settings"
   ]
  },
  {
   "cell_type": "code",
   "execution_count": 49,
   "metadata": {},
   "outputs": [],
   "source": [
    "# Set the file paths\n",
    "ncname_cdi = \"/Users/sabinmaharjan/projects/python/do/static/do/cdi_1.nc\"\n",
    "ncname_rain = \"/Users/sabinmaharjan/projects/python/do/static/do/for_rain.nc\"\n",
    "\n",
    "\n",
    "pd.set_option('display.precision',2)\n",
    "pd.set_option('display.float_format','{:.2f}'.format)\n"
   ]
  },
  {
   "cell_type": "markdown",
   "metadata": {},
   "source": [
    "## Reading CDI data and creating dataframe"
   ]
  },
  {
   "cell_type": "code",
   "execution_count": 50,
   "metadata": {},
   "outputs": [
    {
     "name": "stdout",
     "output_type": "stream",
     "text": [
      "(572721, 3)\n"
     ]
    }
   ],
   "source": [
    "# Open the CDI file\n",
    "with nc.Dataset(ncname_cdi, 'r') as nc_cdi:\n",
    "    lon = nc_cdi.variables['longitude'][:]\n",
    "    lat = nc_cdi.variables['latitude'][:]\n",
    "    time=305\n",
    "    cdi_array = nc_cdi.variables['cdi'][:, :, time]\n",
    "    cdi_vec = cdi_array.ravel()\n",
    "    cdi_df = pd.DataFrame({'lon': np.repeat(lon, len(lat)), 'lat': np.tile(lat, len(lon)), 'cdi': cdi_vec})\n",
    "    print(cdi_df.shape)\n",
    "    # cdi_df=cdi_df.dropna()\n",
    "    # print(cdi_df.shape)\n"
   ]
  },
  {
   "cell_type": "markdown",
   "metadata": {},
   "source": [
    "## Reading forecast data and creating dataframe"
   ]
  },
  {
   "cell_type": "code",
   "execution_count": 51,
   "metadata": {},
   "outputs": [
    {
     "name": "stdout",
     "output_type": "stream",
     "text": [
      "The month at n=0 is: June\n",
      "     lat    lon  rain\n",
      "0 -44.50 112.00   NaN\n",
      "1 -44.45 112.00   NaN\n",
      "2 -44.40 112.00   NaN\n",
      "3 -44.35 112.00   NaN\n",
      "4 -44.30 112.00   NaN\n",
      "5 -44.25 112.00   NaN\n",
      "6 -44.20 112.00   NaN\n",
      "7 -44.15 112.00   NaN\n",
      "8 -44.10 112.00   NaN\n",
      "9 -44.05 112.00   NaN\n",
      "rain_df shape\n",
      "(612226, 3)\n"
     ]
    }
   ],
   "source": [
    "# Open the rainfall file\n",
    "with nc.Dataset(ncname_rain, 'r') as ncrain:\n",
    "   \n",
    "    # Example: Extract latitude and longitude data from the NetCDF file\n",
    "    lon_r = ncrain.variables['lon'][:]\n",
    "    lat_r = ncrain.variables['lat'][:]\n",
    "\n",
    "     # Define indices for selecting a specific subset of data\n",
    "    time = 2\n",
    "    nbins = 2\n",
    "    time_r = ncrain.variables['time'][time]  # Extract the time at n=0\n",
    "    time_r = nc.num2date(time_r, ncrain.variables['time'].units)  # Convert the time number to a datetime object\n",
    "    month_name = time_r.strftime('%B')  # Get the month name\n",
    "    print(f\"The month at n=0 is: {month_name}\")\n",
    "    # Extract rain data for the specified indices\n",
    "    rain_array = ncrain.variables['percentage_of_ensembles'][nbins-1, time-1, :, :]\n",
    "    rain_vec = rain_array.ravel()\n",
    "\n",
    "    # Tile latitude and repeat longitude to match the shape of rain_array\n",
    "    lat_tile = np.tile(lat_r, len(lon_r))\n",
    "    lon_repeat = np.repeat(lon_r, len(lat_r))\n",
    "\n",
    "    # Create DataFrame\n",
    "    rain_df = pd.DataFrame({\n",
    "        'lat': np.round(lat_tile, 2), \n",
    "        'lon': np.round(lon_repeat, 2), \n",
    "        'rain': rain_vec\n",
    "    })\n",
    "\n",
    "    # Print DataFrame\n",
    "    print(rain_df.head(10))\n",
    "    print(\"rain_df shape\")\n",
    "    print(rain_df.shape)\n",
    "\n",
    "    # rain_df=rain_df.dropna()\n",
    "    # print(rain_df.shape)\n",
    "    # print(rain_df.head(10))"
   ]
  },
  {
   "cell_type": "code",
   "execution_count": 52,
   "metadata": {},
   "outputs": [
    {
     "name": "stdout",
     "output_type": "stream",
     "text": [
      "(572721, 4)\n",
      "join_df.head(10)\n",
      "     lat    lon  rain  cdi\n",
      "0 -44.00 112.00   NaN  NaN\n",
      "1 -43.95 112.00   NaN  NaN\n",
      "2 -43.90 112.00   NaN  NaN\n",
      "3 -43.85 112.00   NaN  NaN\n",
      "4 -43.80 112.00   NaN  NaN\n",
      "5 -43.75 112.00   NaN  NaN\n",
      "6 -43.70 112.00   NaN  NaN\n",
      "7 -43.65 112.00   NaN  NaN\n",
      "8 -43.60 112.00   NaN  NaN\n",
      "9 -43.55 112.00   NaN  NaN\n",
      "Number of rows with NaN values: 378949\n",
      "Number of rows without NaN values: 193772\n",
      "(193772, 4)\n"
     ]
    }
   ],
   "source": [
    "# Join the CDI and rainfall dataframes\n",
    "join_df = pd.merge(rain_df,cdi_df, on=['lat', 'lon'], how='right')\n",
    "print(join_df.shape)\n",
    "print(\"join_df.head(10)\")\n",
    "print(join_df.head(10))\n",
    "# Count the number of rows with NaN values\n",
    "num_rows_with_nan = join_df.isna().any(axis=1).sum()\n",
    "\n",
    "# Count the number of rows without NaN values\n",
    "num_rows_without_nan = (~join_df.isna().any(axis=1)).sum()\n",
    "\n",
    "print(f\"Number of rows with NaN values: {num_rows_with_nan}\")\n",
    "print(f\"Number of rows without NaN values: {num_rows_without_nan}\")\n",
    "\n",
    "rmna_df=join_df.dropna()\n",
    "print(rmna_df.shape)\n"
   ]
  },
  {
   "cell_type": "code",
   "execution_count": 53,
   "metadata": {},
   "outputs": [],
   "source": [
    "def classify_drought(row):\n",
    "    cdi, rain = row['cdi'], row['rain']\n",
    "    if cdi < 0.2:\n",
    "        if rain < 50:\n",
    "            if cdi < 0.02:\n",
    "                return 5  # Persists\n",
    "            else:\n",
    "                return 6  # Worsens\n",
    "        elif rain < 70:\n",
    "            return 5  # Persists\n",
    "        else:\n",
    "            if 0.1 <= cdi < 0.2:\n",
    "                return 2  # Removed\n",
    "            else:\n",
    "                return 3  # Improved\n",
    "    else:\n",
    "        if rain < 30:\n",
    "            return 4  # Develops\n",
    "        else:\n",
    "            return 1  # No drought"
   ]
  },
  {
   "cell_type": "code",
   "execution_count": 54,
   "metadata": {},
   "outputs": [
    {
     "name": "stdout",
     "output_type": "stream",
     "text": [
      "193772\n"
     ]
    }
   ],
   "source": [
    "ncell = len(rmna_df)\n",
    "ncores = 4 # Adjust based on your system's capabilities\n",
    "\n",
    "# Use pathos for multiprocessing\n",
    "with Pool(ncores) as p:\n",
    "    try:\n",
    "        classified = p.map(classify_drought, [rmna_df.iloc[i] for i in range(ncell)])\n",
    "    except Exception as e:\n",
    "        print(f\"An error occurred during multiprocessing: {e}\")\n",
    "        p.close() # Close the pool\n",
    "        p.join() # Wait for the worker processes to exit\n",
    "        raise # Re-raise the exception\n",
    "\n",
    "print(len(classified))"
   ]
  },
  {
   "cell_type": "code",
   "execution_count": null,
   "metadata": {},
   "outputs": [],
   "source": []
  },
  {
   "cell_type": "code",
   "execution_count": 55,
   "metadata": {},
   "outputs": [
    {
     "name": "stdout",
     "output_type": "stream",
     "text": [
      "1.00    184599\n",
      "6.00      6720\n",
      "4.00      1875\n",
      "5.00       578\n",
      "Name: category, dtype: int64\n"
     ]
    }
   ],
   "source": [
    "# Create the dataframe\n",
    "df_out = pd.DataFrame({ 'lat': cdi_df['lat'],'lon': cdi_df['lon'], 'category': np.nan})\n",
    "\n",
    "# Get the rows where NAs were removed\n",
    "order = rmna_df.index.astype(int)\n",
    "\n",
    "# Replace the category value\n",
    "classified = np.array(classified)\n",
    "df_out.loc[order, 'category'] = classified.astype(int)\n",
    "print(df_out['category'].value_counts())\n"
   ]
  },
  {
   "cell_type": "code",
   "execution_count": 56,
   "metadata": {},
   "outputs": [],
   "source": [
    "# Create a DataArray from the DataFrame\n",
    "da = xr.DataArray(df_out['category'].values.reshape(cdi_array.shape),\n",
    "                  coords=[('latitude', lat), ('longitude', lon)],\n",
    "                  name='outlook')\n",
    "\n",
    "# Add attributes\n",
    "da.attrs['varunit'] = ''\n",
    "da.attrs['longname'] = 'drought outlook'\n",
    "\n",
    "# Create a Dataset from the DataArray\n",
    "ds = da.to_dataset()\n",
    "# Add the time variable to the Dataset\n",
    "ds['time'] = (('time'), [time_r])\n"
   ]
  },
  {
   "cell_type": "code",
   "execution_count": 57,
   "metadata": {},
   "outputs": [
    {
     "name": "stdout",
     "output_type": "stream",
     "text": [
      "file saved with name: /Users/sabinmaharjan/projects/python/do/static/nc/1_months/June_Final_2024.nc\n"
     ]
    }
   ],
   "source": [
    "# Save the Dataset as a NetCDF file\n",
    "out_ncname = \"/Users/sabinmaharjan/projects/python/do/static/nc/1_months/\"+month_name+\"_Final_2024.nc\"\n",
    "\n",
    "try:\n",
    "    ds.to_netcdf(out_ncname)\n",
    "    print(f\"file saved with name: {out_ncname}\")\n",
    "except Exception as e:\n",
    "    print(f\"An error occurred while saving the Dataset: {e}\")"
   ]
  }
 ],
 "metadata": {
  "kernelspec": {
   "display_name": "Python 3",
   "language": "python",
   "name": "python3"
  },
  "language_info": {
   "codemirror_mode": {
    "name": "ipython",
    "version": 3
   },
   "file_extension": ".py",
   "mimetype": "text/x-python",
   "name": "python",
   "nbconvert_exporter": "python",
   "pygments_lexer": "ipython3",
   "version": "3.10.13"
  }
 },
 "nbformat": 4,
 "nbformat_minor": 2
}
