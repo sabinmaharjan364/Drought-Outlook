{
 "cells": [
  {
   "cell_type": "code",
   "execution_count": 31,
   "metadata": {},
   "outputs": [],
   "source": [
    "import os\n",
    "import numpy as np\n",
    "import xarray as xr\n",
    "import pandas as pd\n",
    "from functools import partial\n",
    "from joblib import Parallel, delayed\n",
    "from pathos.multiprocessing import ProcessingPool as Pool\n",
    "# Load the ncdf4 package\n",
    "import netCDF4 as nc\n",
    "import rasterio\n",
    "from shapely.geometry import Point\n",
    "import geopandas as gpd\n",
    "from rasterio.transform import from_origin\n",
    "from rasterio.features import rasterize\n",
    "from rasterio.transform import from_bounds"
   ]
  },
  {
   "cell_type": "markdown",
   "metadata": {},
   "source": [
    "## File path and settings"
   ]
  },
  {
   "cell_type": "code",
   "execution_count": 32,
   "metadata": {},
   "outputs": [],
   "source": [
    "# Set the file paths\n",
    "ncname_cdi = \"/Users/sabinmaharjan/projects/python/do/static/do/cdi_1.nc\"\n",
    "ncname_rain = \"/Users/sabinmaharjan/projects/python/do/static/do/2024.forecast.nc\"\n",
    "\n",
    "\n",
    "pd.set_option('display.precision',2)\n",
    "pd.set_option('display.float_format','{:.2f}'.format)\n"
   ]
  },
  {
   "cell_type": "markdown",
   "metadata": {},
   "source": [
    "## Reading CDI data and creating dataframe"
   ]
  },
  {
   "cell_type": "code",
   "execution_count": 33,
   "metadata": {},
   "outputs": [],
   "source": [
    "with nc.Dataset(ncname_cdi, 'r') as ncin:\n",
    "    lon_cdi = ncin.variables['longitude'][:]\n",
    "    lat_cdi = ncin.variables['latitude'][:]\n",
    "    cdi_array = ncin.variables['cdi'][:, :, 305]\n",
    "\n",
    "    # Create meshgrids of longitude and latitude\n",
    "    lon_grid, lat_grid = np.meshgrid(lon_cdi, lat_cdi)\n",
    "\n",
    "    # Create a DataFrame with CDI data and coordinates\n",
    "    cdi_df = pd.DataFrame({\n",
    "        'lon': lon_grid.ravel(),\n",
    "        'lat': lat_grid.ravel(),\n",
    "        'cdi': cdi_array.ravel()\n",
    "    })\n"
   ]
  },
  {
   "cell_type": "markdown",
   "metadata": {},
   "source": [
    "## Reading forecast data and creating dataframe"
   ]
  },
  {
   "cell_type": "code",
   "execution_count": 34,
   "metadata": {},
   "outputs": [
    {
     "name": "stdout",
     "output_type": "stream",
     "text": [
      "The month at n=0 is: April\n",
      "<class 'netCDF4._netCDF4.Variable'>\n",
      "float32 percentage_of_ensembles(nbins, time, lat, lon)\n",
      "    _FillValue: 1e+20\n",
      "    long_name: percentage of ensembles in each percentile bin\n",
      "    units: None\n",
      "    missing_value: 1e+20\n",
      "    comment: grid based daily rainfall\n",
      "    name: ens_percents\n",
      "unlimited dimensions: time\n",
      "current shape = (2, 5, 691, 886)\n",
      "filling on\n"
     ]
    }
   ],
   "source": [
    "# Open the rainfall file\n",
    "with nc.Dataset(ncname_rain, 'r') as ncin:\n",
    "    lon_rain = ncin.variables['lon'][:]\n",
    "    lat_rain = ncin.variables['lat'][:]\n",
    "    n=0\n",
    "    m=1\n",
    "    time_r = ncin.variables['time'][n]  # Extract the time at n=0\n",
    "    time_r = nc.num2date(time_r, ncin.variables['time'].units)  # Convert the time number to a datetime object\n",
    "    month_name = time_r.strftime('%B')  # Get the month name\n",
    "    print(f\"The month at n=0 is: {month_name}\")\n",
    "\n",
    "    print(ncin.variables['percentage_of_ensembles'])\n",
    "    rain_array = ncin.variables['percentage_of_ensembles'][m, n, :, :]\n",
    "  # Round the latitude and longitude values\n",
    "    lat_rounded = np.round(lat_rain, 2)\n",
    "    lon_rounded = np.round(lon_rain, 2)\n",
    "\n",
    "    # Create a DataFrame with rainfall data and rounded coordinates\n",
    "    rain_df = pd.DataFrame({\n",
    "        'lon': np.repeat(lon_rounded, len(lat_rounded)),\n",
    "        'lat': np.tile(lat_rounded, len(lon_rounded)),\n",
    "        'rain': rain_array.ravel()\n",
    "    })\n",
    "   "
   ]
  },
  {
   "cell_type": "code",
   "execution_count": 35,
   "metadata": {},
   "outputs": [],
   "source": [
    "# Create a DataFrame with the grid of latitude and longitude coordinates\n",
    "coords_df = pd.DataFrame({'lon': lon_grid.ravel(), 'lat': lat_grid.ravel()})\n",
    "# Merge the coordinate DataFrame with the rainfall DataFrame\n",
    "merged_df = pd.merge(coords_df, rain_df, on=['lon', 'lat'], how='left')"
   ]
  },
  {
   "cell_type": "code",
   "execution_count": 36,
   "metadata": {},
   "outputs": [
    {
     "name": "stdout",
     "output_type": "stream",
     "text": [
      "join_df.head(10)\n",
      "     lon    lat  cdi  rain\n",
      "0 112.00 -44.00  NaN   NaN\n",
      "1 112.05 -44.00  NaN   NaN\n",
      "2 112.10 -44.00  NaN   NaN\n",
      "3 112.15 -44.00  NaN   NaN\n",
      "4 112.20 -44.00  NaN   NaN\n",
      "5 112.25 -44.00  NaN   NaN\n",
      "6 112.30 -44.00  NaN   NaN\n",
      "7 112.35 -44.00  NaN   NaN\n",
      "8 112.40 -44.00  NaN   NaN\n",
      "9 112.45 -44.00  NaN   NaN\n"
     ]
    }
   ],
   "source": [
    "# Join the CDI and merged DataFrames\n",
    "join_df = pd.merge(cdi_df, merged_df, on=['lon', 'lat'], how='left')\n",
    "print(\"join_df.head(10)\")\n",
    "print(join_df.head(10))"
   ]
  },
  {
   "cell_type": "code",
   "execution_count": 37,
   "metadata": {},
   "outputs": [
    {
     "name": "stdout",
     "output_type": "stream",
     "text": [
      "Number of rows with NaN values: 566432\n",
      "Number of rows without NaN values: 6289\n",
      "(6289, 4)\n"
     ]
    }
   ],
   "source": [
    "\n",
    "# Count the number of rows with NaN values\n",
    "num_rows_with_nan = join_df.isna().any(axis=1).sum()\n",
    "\n",
    "# Count the number of rows without NaN values\n",
    "num_rows_without_nan = (~join_df.isna().any(axis=1)).sum()\n",
    "\n",
    "print(f\"Number of rows with NaN values: {num_rows_with_nan}\")\n",
    "print(f\"Number of rows without NaN values: {num_rows_without_nan}\")\n",
    "\n",
    "rmna_df=join_df.dropna()\n",
    "print(rmna_df.shape)\n"
   ]
  },
  {
   "cell_type": "code",
   "execution_count": 38,
   "metadata": {},
   "outputs": [],
   "source": [
    "def classify_drought(row):\n",
    "    cdi, rain = row['cdi'], row['rain']\n",
    "    if cdi < 0.2:\n",
    "        if rain < 50:\n",
    "            if cdi < 0.02:\n",
    "                return 5  # Persists\n",
    "            else:\n",
    "                return 6  # Worsens\n",
    "        elif rain < 70:\n",
    "            return 5  # Persists\n",
    "        else:\n",
    "            if 0.1 <= cdi < 0.2:\n",
    "                return 2  # Removed\n",
    "            else:\n",
    "                return 3  # Improved\n",
    "    else:\n",
    "        if rain < 30:\n",
    "            return 4  # Develops\n",
    "        else:\n",
    "            return 1  # No drought"
   ]
  },
  {
   "cell_type": "code",
   "execution_count": 39,
   "metadata": {},
   "outputs": [
    {
     "name": "stdout",
     "output_type": "stream",
     "text": [
      "6289\n"
     ]
    }
   ],
   "source": [
    "ncell = len(rmna_df)\n",
    "ncores = 4 # Adjust based on your system's capabilities\n",
    "\n",
    "# Use pathos for multiprocessing\n",
    "with Pool(ncores) as p:\n",
    "    try:\n",
    "        classified = p.map(classify_drought, [rmna_df.iloc[i] for i in range(ncell)])\n",
    "    except Exception as e:\n",
    "        print(f\"An error occurred during multiprocessing: {e}\")\n",
    "        p.close() # Close the pool\n",
    "        p.join() # Wait for the worker processes to exit\n",
    "        raise # Re-raise the exception\n",
    "\n",
    "print(len(classified))"
   ]
  },
  {
   "cell_type": "code",
   "execution_count": null,
   "metadata": {},
   "outputs": [],
   "source": []
  },
  {
   "cell_type": "code",
   "execution_count": 40,
   "metadata": {},
   "outputs": [
    {
     "name": "stdout",
     "output_type": "stream",
     "text": [
      "4.00    3224\n",
      "1.00    2742\n",
      "6.00     300\n",
      "5.00      23\n",
      "Name: category, dtype: int64\n"
     ]
    }
   ],
   "source": [
    "# Create the dataframe\n",
    "df_out = pd.DataFrame({ 'lat': cdi_df['lat'],'lon': cdi_df['lon'], 'category': np.nan})\n",
    "\n",
    "# Get the rows where NAs were removed\n",
    "order = rmna_df.index.astype(int)\n",
    "\n",
    "# Replace the category value\n",
    "classified = np.array(classified)\n",
    "df_out.loc[order, 'category'] = classified.astype(int)\n",
    "print(df_out['category'].value_counts())\n"
   ]
  },
  {
   "cell_type": "code",
   "execution_count": 41,
   "metadata": {},
   "outputs": [],
   "source": [
    "# Create a DataArray from the DataFrame\n",
    "da = xr.DataArray(df_out['category'].values.reshape(cdi_array.shape),\n",
    "                  coords=[('latitude', lat), ('longitude', lon)],\n",
    "                  name='outlook')\n",
    "\n",
    "# Add attributes\n",
    "da.attrs['varunit'] = ''\n",
    "da.attrs['longname'] = 'drought outlook'\n",
    "\n",
    "# Create a Dataset from the DataArray\n",
    "ds = da.to_dataset()\n",
    "# Add the time variable to the Dataset\n",
    "ds['time'] = (('time'), [time_r])\n"
   ]
  },
  {
   "cell_type": "code",
   "execution_count": 42,
   "metadata": {},
   "outputs": [
    {
     "name": "stdout",
     "output_type": "stream",
     "text": [
      "file saved with name: /Users/sabinmaharjan/projects/python/do/static/nc/1_months/April_Final_2024.nc\n"
     ]
    }
   ],
   "source": [
    "# Save the Dataset as a NetCDF file\n",
    "out_ncname = \"/Users/sabinmaharjan/projects/python/do/static/nc/1_months/\"+month_name+\"_Final_2024.nc\"\n",
    "\n",
    "try:\n",
    "    ds.to_netcdf(out_ncname)\n",
    "    print(f\"file saved with name: {out_ncname}\")\n",
    "except Exception as e:\n",
    "    print(f\"An error occurred while saving the Dataset: {e}\")"
   ]
  }
 ],
 "metadata": {
  "kernelspec": {
   "display_name": "Python 3",
   "language": "python",
   "name": "python3"
  },
  "language_info": {
   "codemirror_mode": {
    "name": "ipython",
    "version": 3
   },
   "file_extension": ".py",
   "mimetype": "text/x-python",
   "name": "python",
   "nbconvert_exporter": "python",
   "pygments_lexer": "ipython3",
   "version": "3.10.13"
  }
 },
 "nbformat": 4,
 "nbformat_minor": 2
}
