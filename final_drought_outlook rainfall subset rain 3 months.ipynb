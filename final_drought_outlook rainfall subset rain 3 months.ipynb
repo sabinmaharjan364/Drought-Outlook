{
 "cells": [
  {
   "cell_type": "code",
   "execution_count": 13,
   "metadata": {},
   "outputs": [],
   "source": [
    "import os\n",
    "import numpy as np\n",
    "import xarray as xr\n",
    "import pandas as pd\n",
    "from functools import partial\n",
    "from joblib import Parallel, delayed\n",
    "from pathos.multiprocessing import ProcessingPool as Pool\n",
    "# Load the ncdf4 package\n",
    "import netCDF4 as nc\n",
    "import rasterio\n",
    "from shapely.geometry import Point\n",
    "import geopandas as gpd\n",
    "from rasterio.transform import from_origin\n",
    "from rasterio.features import rasterize\n",
    "from rasterio.transform import from_bounds"
   ]
  },
  {
   "cell_type": "markdown",
   "metadata": {},
   "source": [
    "## File path and settings"
   ]
  },
  {
   "cell_type": "code",
   "execution_count": 14,
   "metadata": {},
   "outputs": [],
   "source": [
    "# Set the file paths\n",
    "ncname_cdi = \"/Users/sabinmaharjan/projects/python/do/static/do/cdi_3.nc\"\n",
    "ncname_rain = \"/Users/sabinmaharjan/projects/python/do/static/do/2024.forecast.nc\"\n",
    "pd.set_option('display.precision',2)\n",
    "pd.set_option('display.float_format','{:.2f}'.format)\n"
   ]
  },
  {
   "cell_type": "markdown",
   "metadata": {},
   "source": [
    "## Reading CDI data and creating dataframe"
   ]
  },
  {
   "cell_type": "code",
   "execution_count": 15,
   "metadata": {},
   "outputs": [
    {
     "name": "stdout",
     "output_type": "stream",
     "text": [
      "572721\n",
      "572721 572721\n",
      "(572721, 3)\n",
      "(273625, 3)\n"
     ]
    }
   ],
   "source": [
    "# Open the CDI file\n",
    "with nc.Dataset(ncname_cdi, 'r') as nc_cdi:\n",
    "    lon = nc_cdi.variables['longitude'][:]\n",
    "    lat = nc_cdi.variables['latitude'][:]\n",
    "    time=305\n",
    "    cdi_array = nc_cdi.variables['cdi'][:, :, time]\n",
    "    cdi_vec = cdi_array.flatten()\n",
    "    lat_grid, lon_grid=np.meshgrid(lat,lon)\n",
    "    print(len(cdi_vec))\n",
    "    print(len(lat_grid.flatten()),len(lon_grid.flatten()))\n",
    "    cdi_df = pd.DataFrame({\n",
    "        'lat': np.round(lat_grid,2).flatten(), \n",
    "        'lon': np.round(lon_grid,2).flatten(),\n",
    "        'cdi': cdi_vec\n",
    "    })\n",
    "    print(cdi_df.shape)\n",
    "    cdi_df_crop=cdi_df.dropna()\n",
    "    print(cdi_df_crop.shape)\n"
   ]
  },
  {
   "cell_type": "markdown",
   "metadata": {},
   "source": [
    "## Reading forecast data and creating dataframe"
   ]
  },
  {
   "cell_type": "code",
   "execution_count": 16,
   "metadata": {},
   "outputs": [
    {
     "name": "stdout",
     "output_type": "stream",
     "text": [
      "[-44.5  -44.45 -44.4  -44.35 -44.3  -44.25 -44.2  -44.15 -44.1  -44.05]\n",
      "The month at n=0 is: April\n",
      "612226\n",
      "612226 612226\n",
      "     lat    lon  rain\n",
      "0 -44.50 112.00   NaN\n",
      "1 -44.45 112.00   NaN\n",
      "2 -44.40 112.00   NaN\n",
      "3 -44.35 112.00   NaN\n",
      "4 -44.30 112.00   NaN\n",
      "5 -44.25 112.00   NaN\n",
      "6 -44.20 112.00   NaN\n",
      "7 -44.15 112.00   NaN\n",
      "8 -44.10 112.00   NaN\n",
      "9 -44.05 112.00   NaN\n",
      "rain_df shape\n",
      "(612226, 3)\n",
      "(281760, 3)\n",
      "         lat    lon  rain\n",
      "15756 -16.80 113.10 39.39\n",
      "15757 -16.75 113.10 39.39\n",
      "15759 -16.65 113.10 39.39\n",
      "16635 -41.95 113.20 42.42\n",
      "16641 -41.65 113.20 39.39\n",
      "16642 -41.60 113.20 39.39\n",
      "16643 -41.55 113.20 39.39\n",
      "16644 -41.50 113.20 39.39\n",
      "16645 -41.45 113.20 39.39\n",
      "16646 -41.40 113.20 38.38\n"
     ]
    }
   ],
   "source": [
    "# Open the rainfall file\n",
    "with nc.Dataset(ncname_rain, 'r') as ncrain:\n",
    "   \n",
    "    # Example: Extract latitude and longitude data from the NetCDF file\n",
    "    lon_r = ncrain.variables['lon'][:]\n",
    "    lat_r = ncrain.variables['lat'][:]\n",
    "    lat_rounded=np.round(lat_r,2)\n",
    "    lon_rounded=np.round(lon_r,2)\n",
    "    print(lat_rounded[:10])\n",
    "    # Define indices for selecting a specific subset of data\n",
    "    time = 0\n",
    "    nbins = 2\n",
    "\n",
    "    time_r = ncrain.variables['time'][time]  # Extract the time at n=0\n",
    "    time_r = nc.num2date(time_r, ncrain.variables['time'].units)  # Convert the time number to a datetime object\n",
    "    month_name = time_r.strftime('%B')  # Get the month name\n",
    "    print(f\"The month at n=0 is: {month_name}\")\n",
    "\n",
    "    # Extract rain data for the specified indices\n",
    "    rain_array = ncrain.variables['percentage_of_ensembles'][nbins-1, time-1, :, :]\n",
    "    rain_vec = rain_array.flatten()\n",
    "    print(len(rain_vec))\n",
    "    # Tile latitude and repeat longitude to match the shape of rain_array\n",
    "    lat_r_grid, lon_r_grid=np.meshgrid(lat_rounded,lon_rounded)\n",
    "\n",
    "    print(len(lat_r_grid.flatten()),len(lon_r_grid.flatten()))\n",
    "    # Create DataFrame\n",
    "    rain_df = pd.DataFrame({\n",
    "        'lat': lat_r_grid.flatten(), \n",
    "        'lon': lon_r_grid.flatten(), \n",
    "        'rain': rain_vec\n",
    "    })\n",
    "\n",
    " \n",
    "    print(rain_df.head(10))\n",
    "    print(\"rain_df shape\")\n",
    "    print(rain_df.shape)\n",
    "\n",
    "    rain_df_crop=rain_df.dropna()\n",
    "    print(rain_df_crop.shape)\n",
    "    print(rain_df_crop.head(10))"
   ]
  },
  {
   "cell_type": "markdown",
   "metadata": {},
   "source": [
    "## merging CDI and forecast using lat and lon"
   ]
  },
  {
   "cell_type": "code",
   "execution_count": 17,
   "metadata": {},
   "outputs": [
    {
     "name": "stdout",
     "output_type": "stream",
     "text": [
      "(612226, 4)\n",
      "join_df.head(10)\n",
      "     lat    lon  rain  cdi\n",
      "0 -44.50 112.00   NaN  NaN\n",
      "1 -44.45 112.00   NaN  NaN\n",
      "2 -44.40 112.00   NaN  NaN\n",
      "3 -44.35 112.00   NaN  NaN\n",
      "4 -44.30 112.00   NaN  NaN\n",
      "5 -44.25 112.00   NaN  NaN\n",
      "6 -44.20 112.00   NaN  NaN\n",
      "7 -44.15 112.00   NaN  NaN\n",
      "8 -44.10 112.00   NaN  NaN\n",
      "9 -44.05 112.00   NaN  NaN\n",
      "Number of rows with NaN values: 604374\n",
      "Number of rows without NaN values: 7852\n",
      "(281760, 4)\n",
      "Number of rain NaN values: 330466\n",
      "Number of CDI NaN values: 601174\n"
     ]
    }
   ],
   "source": [
    "# Join the CDI and rainfall dataframes\n",
    "join_df = pd.merge(rain_df,cdi_df, on=['lat', 'lon'], how='left')\n",
    "print(join_df.shape)\n",
    "print(\"join_df.head(10)\")\n",
    "print(join_df.head(10))\n",
    "# Count the number of rows with NaN values\n",
    "num_rows_with_nan = join_df.isna().any(axis=1).sum()\n",
    "\n",
    "# Count the number of rows without NaN values\n",
    "num_rows_without_nan = (~join_df.isna().any(axis=1)).sum()\n",
    "\n",
    "print(f\"Number of rows with NaN values: {num_rows_with_nan}\")\n",
    "print(f\"Number of rows without NaN values: {num_rows_without_nan}\")\n",
    "\n",
    "rmna_df=join_df.dropna(subset=['rain'])\n",
    "print(rmna_df.shape)\n",
    "nan_count = join_df['rain'].isna().sum()\n",
    "nan__cdi_count = join_df['cdi'].isna().sum()\n",
    "print(\"Number of rain NaN values:\", nan_count)\n",
    "print(\"Number of CDI NaN values:\", nan__cdi_count)"
   ]
  },
  {
   "cell_type": "code",
   "execution_count": 18,
   "metadata": {},
   "outputs": [],
   "source": [
    "def classify_drought(row):\n",
    "    cdi, rain = row['cdi'], row['rain']\n",
    "    if cdi < 0.2:\n",
    "        if rain < 50:\n",
    "            if cdi < 0.02:\n",
    "                return 5  # Persists\n",
    "            else:\n",
    "                return 6  # Worsens\n",
    "        elif rain < 70:\n",
    "            return 5  # Persists\n",
    "        else:\n",
    "            if 0.1 <= cdi < 0.2:\n",
    "                return 2  # Removed\n",
    "            else:\n",
    "                return 3  # Improved\n",
    "    else:\n",
    "        if rain < 30:\n",
    "            return 4  # Develops\n",
    "        else:\n",
    "            return 1  # No drought"
   ]
  },
  {
   "cell_type": "code",
   "execution_count": 19,
   "metadata": {},
   "outputs": [
    {
     "name": "stdout",
     "output_type": "stream",
     "text": [
      "281760\n"
     ]
    }
   ],
   "source": [
    "ncell = len(rmna_df)\n",
    "ncores = 4 # Adjust based on your system's capabilities\n",
    "\n",
    "# Use pathos for multiprocessing\n",
    "with Pool(ncores) as p:\n",
    "    try:\n",
    "        classified = p.map(classify_drought, [rmna_df.iloc[i] for i in range(ncell)])\n",
    "    except Exception as e:\n",
    "        print(f\"An error occurred during multiprocessing: {e}\")\n",
    "        p.close() # Close the pool\n",
    "        p.join() # Wait for the worker processes to exit\n",
    "        raise # Re-raise the exception\n",
    "\n",
    "print(len(classified))"
   ]
  },
  {
   "cell_type": "code",
   "execution_count": 20,
   "metadata": {},
   "outputs": [
    {
     "name": "stdout",
     "output_type": "stream",
     "text": [
      "1.00    245057\n",
      "4.00     36166\n",
      "5.00       297\n",
      "6.00       240\n",
      "Name: category, dtype: int64\n",
      "     lat    lon  category\n",
      "0 -44.50 112.00       NaN\n",
      "1 -44.45 112.00       NaN\n",
      "2 -44.40 112.00       NaN\n",
      "3 -44.35 112.00       NaN\n",
      "4 -44.30 112.00       NaN\n",
      "5 -44.25 112.00       NaN\n",
      "6 -44.20 112.00       NaN\n",
      "7 -44.15 112.00       NaN\n",
      "8 -44.10 112.00       NaN\n",
      "9 -44.05 112.00       NaN\n",
      "(612226, 3)\n"
     ]
    }
   ],
   "source": [
    "# Create the dataframe\n",
    "df_out = pd.DataFrame({ 'lat': rain_df['lat'],'lon': rain_df['lon'], 'category': np.nan})\n",
    "\n",
    "\n",
    "classified = np.array(classified)\n",
    "df_out.loc[rmna_df.index,'category'] = classified.astype(int)\n",
    "\n",
    "print(df_out['category'].value_counts())\n",
    "print(df_out.head(10))\n",
    "print(df_out.shape)"
   ]
  },
  {
   "cell_type": "code",
   "execution_count": 21,
   "metadata": {},
   "outputs": [],
   "source": [
    "# Create a DataArray from the DataFrame\n",
    "da = xr.DataArray(df_out['category'].values.reshape(rain_array.shape),\n",
    "                  coords=[('latitude', lat_rounded), ('longitude', lon_rounded)],\n",
    "                  name='outlook')\n",
    "# Add attributes\n",
    "da.attrs['varunit'] = ''\n",
    "da.attrs['longname'] = 'drought outlook'\n",
    "\n",
    "# Create a Dataset from the DataArray\n",
    "ds = da.to_dataset()"
   ]
  },
  {
   "cell_type": "code",
   "execution_count": 22,
   "metadata": {},
   "outputs": [
    {
     "name": "stdout",
     "output_type": "stream",
     "text": [
      "Length of order: 281760\n",
      "Length of classified: 281760\n",
      "Data type of order: int64\n",
      "Data type of classified: int64\n",
      "Order: Int64Index([ 15756,  15757,  15759,  16635,  16641,  16642,  16643,  16644,\n",
      "             16645,  16646,\n",
      "            ...\n",
      "            600428, 600435, 601311, 601312, 601313, 601314, 601315, 602198,\n",
      "            602199, 602200],\n",
      "           dtype='int64', length=281760)\n",
      "Classified: [1 1 1 ... 1 1 1]\n",
      "Index of rmna_df: Int64Index([ 15756,  15757,  15759,  16635,  16641,  16642,  16643,  16644,\n",
      "             16645,  16646,\n",
      "            ...\n",
      "            600428, 600435, 601311, 601312, 601313, 601314, 601315, 602198,\n",
      "            602199, 602200],\n",
      "           dtype='int64', length=281760)\n"
     ]
    }
   ],
   "source": [
    "# Get the rows where NAs were removed\n",
    "order = rmna_df.index.astype(int)\n",
    "\n",
    "# Replace the category value\n",
    "classified = np.array(classified)\n",
    "# Check the lengths of order and classified\n",
    "print(\"Length of order:\", len(order))\n",
    "print(\"Length of classified:\", len(classified))\n",
    "\n",
    "# Check the data types of order and classified\n",
    "print(\"Data type of order:\", order.dtype)\n",
    "print(\"Data type of classified:\", classified.dtype)\n",
    "\n",
    "# Inspect the data\n",
    "print(\"Order:\", order)\n",
    "print(\"Classified:\", classified)\n",
    "\n",
    "# Ensure that the index of rmna_df contains integer values\n",
    "print(\"Index of rmna_df:\", rmna_df.index)"
   ]
  },
  {
   "cell_type": "markdown",
   "metadata": {},
   "source": []
  },
  {
   "cell_type": "code",
   "execution_count": 23,
   "metadata": {},
   "outputs": [],
   "source": [
    "# Add the time variable to the Dataset\n",
    "ds['time'] = (('time'), [time_r])\n",
    "out_ncname = \"/Users/sabinmaharjan/projects/python/do/static/nc/3_months/\"+month_name+\"_Final_2024.nc\""
   ]
  },
  {
   "cell_type": "code",
   "execution_count": 24,
   "metadata": {},
   "outputs": [
    {
     "name": "stdout",
     "output_type": "stream",
     "text": [
      "file saved with name: /Users/sabinmaharjan/projects/python/do/static/nc/3_months/April_Final_2024.nc\n"
     ]
    }
   ],
   "source": [
    "# Save the Dataset as a NetCDF file\n",
    "\n",
    "try:\n",
    "    ds.to_netcdf(out_ncname)\n",
    "    print(f\"file saved with name: {out_ncname}\")\n",
    "except Exception as e:\n",
    "    print(f\"An error occurred while saving the Dataset: {e}\")"
   ]
  }
 ],
 "metadata": {
  "kernelspec": {
   "display_name": "Python 3",
   "language": "python",
   "name": "python3"
  },
  "language_info": {
   "codemirror_mode": {
    "name": "ipython",
    "version": 3
   },
   "file_extension": ".py",
   "mimetype": "text/x-python",
   "name": "python",
   "nbconvert_exporter": "python",
   "pygments_lexer": "ipython3",
   "version": "3.10.13"
  }
 },
 "nbformat": 4,
 "nbformat_minor": 2
}
