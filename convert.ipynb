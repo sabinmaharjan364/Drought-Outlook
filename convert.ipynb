{
 "cells": [
  {
   "cell_type": "code",
   "execution_count": 2,
   "metadata": {},
   "outputs": [
    {
     "name": "stdout",
     "output_type": "stream",
     "text": [
      "New file saved as: for.nc\n"
     ]
    }
   ],
   "source": [
    "import xarray as xr\n",
    " \n",
    "try:\n",
    "    nc_file = \"/Users/sabinmaharjan/projects/python/do/static/do/2024.forecast.nc\"\n",
    "    nc_output_file = \"/Users/sabinmaharjan/projects/python/do/static/do/for_rain.nc\"\n",
    "\n",
    "    ds = xr.open_dataset(nc_file)\n",
    " \n",
    "    # Assuming latitude and longitude variables are named 'lat' and 'lon' respectively\n",
    "    # Round latitude and longitude values\n",
    "    ds['lat'] = ds['lat'].astype('double')\n",
    "    ds['lon'] = ds['lon'].astype('double')\n",
    " \n",
    "    # Round latitude values to two decimal places\n",
    "    ds['lat'] = ds['lat'].round(decimals=2)\n",
    " \n",
    "    # Save the modified dataset to a new NetCDF file\n",
    "    ds.to_netcdf(nc_output_file)\n",
    " \n",
    "    print(\"New file saved as:\", new_nc_file)\n",
    " \n",
    "except Exception as e:\n",
    "    print(\"An error occurred:\", e)"
   ]
  }
 ],
 "metadata": {
  "kernelspec": {
   "display_name": "Python 3",
   "language": "python",
   "name": "python3"
  },
  "language_info": {
   "codemirror_mode": {
    "name": "ipython",
    "version": 3
   },
   "file_extension": ".py",
   "mimetype": "text/x-python",
   "name": "python",
   "nbconvert_exporter": "python",
   "pygments_lexer": "ipython3",
   "version": "3.10.13"
  }
 },
 "nbformat": 4,
 "nbformat_minor": 2
}
