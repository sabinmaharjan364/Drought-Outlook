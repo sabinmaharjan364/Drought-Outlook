{
 "cells": [
  {
   "cell_type": "code",
   "execution_count": 1,
   "metadata": {},
   "outputs": [],
   "source": [
    "import os\n",
    "import numpy as np\n",
    "import xarray as xr\n",
    "import pandas as pd\n",
    "from IPython.display import display\n",
    " \n",
    "# Set the file paths\n",
    "ncname_cdi = \"/Users/sabinmaharjan/projects/python/do/static/file/cdi_1.nc\"\n",
    "ncname_rain = \"/Users/sabinmaharjan/projects/python/do/static/file/2024.forecast.nc\""
   ]
  },
  {
   "cell_type": "code",
   "execution_count": 2,
   "metadata": {},
   "outputs": [],
   "source": [
    "# Open the CDI data\n",
    "ds1 = xr.open_dataset(ncname_cdi)\n",
    "lon = ds1[\"longitude\"].values\n",
    "lat = ds1[\"latitude\"].values\n",
    "cdi_array = ds1[\"cdi\"].values\n",
    "cdi_slice = cdi_array[:, :, 305]\n",
    "cdi_vec = np.ravel(cdi_slice)\n",
    "lon_grid, lat_grid = np.meshgrid(lon, lat)\n",
    "cdi_df = pd.DataFrame({'lon': lon_grid.flatten(), 'lat': lat_grid.flatten(), 'cdi': cdi_vec})\n"
   ]
  },
  {
   "cell_type": "code",
   "execution_count": 3,
   "metadata": {},
   "outputs": [
    {
     "name": "stdout",
     "output_type": "stream",
     "text": [
      "Averaged rain forecast file saved as: /Users/sabinmaharjan/projects/python/do/static/file/averaged_rain_forecast.nc\n"
     ]
    }
   ],
   "source": [
    "# # Open the rain forecast data\n",
    "# ds2 = xr.open_dataset(ncname_rain)\n",
    "# rain_var = ds2[\"percentage_of_ensembles\"]\n",
    " \n",
    "# # Extract the data for the first three months\n",
    "# first_three_months = rain_var[1, :3, :, :]\n",
    " \n",
    "# # Calculate the average across the first three months\n",
    "# rain_avg = first_three_months.mean(dim=\"time\")\n",
    " \n",
    "# # Get the latitude and longitude coordinates\n",
    "# lats = ds2.lat\n",
    "# lons = ds2.lon\n",
    " \n",
    "# # Create a new Dataset with the averaged rain data\n",
    "# ds_avg = xr.Dataset(\n",
    "#     {\n",
    "#         \"rain\": ((\"lat\", \"lon\"), rain_avg.values),\n",
    "#     },\n",
    "#     coords={\"lat\": lats, \"lon\": lons},\n",
    "# )\n",
    " \n",
    "# # Save the new Dataset as a NetCDF file\n",
    "# out_ncname = \"/Users/sabinmaharjan/projects/python/do/static/file/averaged_rain_forecast.nc\"\n",
    "# ds_avg.to_netcdf(out_ncname)\n",
    "\n",
    "# print(f\"Averaged rain forecast file saved as: {out_ncname}\")"
   ]
  },
  {
   "cell_type": "code",
   "execution_count": 17,
   "metadata": {},
   "outputs": [
    {
     "name": "stdout",
     "output_type": "stream",
     "text": [
      "New file saved as: /Users/sabinmaharjan/projects/python/do/static/file/3_average_final.nc\n"
     ]
    }
   ],
   "source": [
    "import os\n",
    "import numpy as np\n",
    "import xarray as xr\n",
    "import pandas as pd\n",
    "from IPython.display import display\n",
    "\n",
    "# Set the file paths\n",
    "ncname_cdi = \"/Users/sabinmaharjan/projects/python/do/static/file/cdi_1.nc\"\n",
    "ncname_rain = \"/Users/sabinmaharjan/projects/python/do/static/file/p_atmos_q5_pr_s_maq5_pumedian_20240414_rt.nc\"\n",
    "\n",
    "ncname_rain_final = \"/Users/sabinmaharjan/projects/python/do/static/file/3_average_final.nc\"\n",
    "\n",
    "# Open the CDI data\n",
    "ds1 = xr.open_dataset(ncname_cdi)\n",
    "lon = ds1[\"longitude\"].values\n",
    "lat = ds1[\"latitude\"].values\n",
    "cdi_array = ds1[\"cdi\"].values\n",
    "cdi_slice = cdi_array[:, :, 305]\n",
    "cdi_vec = np.ravel(cdi_slice)\n",
    "lon_grid, lat_grid = np.meshgrid(lon, lat)\n",
    "cdi_df = pd.DataFrame({'lon': lon_grid.flatten(), 'lat': lat_grid.flatten(), 'cdi': cdi_vec})\n",
    "\n",
    "# Open the rain forecast data\n",
    "ds2 = xr.open_dataset(ncname_rain)\n",
    "rain_var = ds2[\"percentage_of_ensembles\"]\n",
    "\n",
    "# Extract the data for the first three months\n",
    "first_three_months = rain_var[1, :3, :, :]\n",
    "\n",
    "# Calculate the average across the first three months\n",
    "rain_avg = first_three_months.mean(dim=\"time\")\n",
    "\n",
    "# Get the latitude and longitude coordinates\n",
    "lats = ds2.lat\n",
    "lons = ds2.lon\n",
    "\n",
    "# Get the time coordinate from first_three_months\n",
    "time = first_three_months.time.values\n",
    "\n",
    "# Create a new Dataset with the averaged rain data and time as a separate variable\n",
    "ds_avg = xr.Dataset(\n",
    "    {\n",
    "        \"rain_avg\": ((\"lat\", \"lon\"), rain_avg.values),\n",
    "        \"time\": time,\n",
    "    },\n",
    "    coords={\"lat\": lats, \"lon\": lons},\n",
    ")\n",
    "\n",
    "# Rename 'lat' to 'latitude' and 'lon' to 'longitude'\n",
    "ds_avg = ds_avg.rename({'lat': 'latitude', 'lon': 'longitude'})\n",
    "\n",
    "# Convert latitude and longitude variables to double and round their values\n",
    "ds_avg['latitude'] = ds_avg['latitude'].astype('double')\n",
    "ds_avg['longitude'] = ds_avg['longitude'].astype('double')\n",
    "ds_avg['latitude'] = ds_avg['latitude'].round(decimals=2)\n",
    "ds_avg['longitude'] = ds_avg['longitude'].round(decimals=2)\n",
    "\n",
    "# Save the modified dataset to a new NetCDF file\n",
    "ds_avg.to_netcdf(ncname_rain_final)\n",
    "print(f\"New file saved as: {ncname_rain_final}\")"
   ]
  }
 ],
 "metadata": {
  "kernelspec": {
   "display_name": "Python 3",
   "language": "python",
   "name": "python3"
  },
  "language_info": {
   "codemirror_mode": {
    "name": "ipython",
    "version": 3
   },
   "file_extension": ".py",
   "mimetype": "text/x-python",
   "name": "python",
   "nbconvert_exporter": "python",
   "pygments_lexer": "ipython3",
   "version": "3.10.13"
  }
 },
 "nbformat": 4,
 "nbformat_minor": 2
}
