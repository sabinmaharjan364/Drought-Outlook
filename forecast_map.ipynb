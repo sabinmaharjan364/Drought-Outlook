{
 "cells": [
  {
   "cell_type": "code",
   "execution_count": 19,
   "metadata": {},
   "outputs": [],
   "source": [
    "import os\n",
    "import numpy as np\n",
    "import xarray as xr\n",
    "import pandas as pd\n",
    "from functools import partial\n",
    "from joblib import Parallel, delayed\n",
    "import multiprocessing\n",
    "from pathos.multiprocessing import ProcessingPool as Pool\n",
    "import matplotlib.pyplot as plt\n",
    "from IPython.display import display\n",
    "# Load the ncdf4 package\n",
    "import netCDF4 as nc\n",
    "import rasterio\n",
    "from shapely.geometry import Point\n",
    "import geopandas as gpd\n",
    "from rasterio.transform import from_origin\n",
    "from rasterio.features import rasterize\n",
    "from rasterio.transform import from_bounds\n",
    "import rasterio\n",
    "from shapely.geometry import Point\n",
    "import geopandas as gpd\n",
    "from rasterio.transform import from_origin\n",
    "from rasterio.features import rasterize\n",
    "from rasterio.transform import from_bounds\n",
    "import matplotlib.colors as colors\n",
    "import datetime"
   ]
  },
  {
   "cell_type": "markdown",
   "metadata": {},
   "source": [
    "## File path and settings"
   ]
  },
  {
   "cell_type": "code",
   "execution_count": 20,
   "metadata": {},
   "outputs": [],
   "source": [
    "# Set the file paths\n",
    "ncname_cdi = \"/Users/sabinmaharjan/projects/python/do/static/file/cdi_1.nc\"\n",
    "ncname_rain = \"/Users/sabinmaharjan/projects/python/do/static/file/2024.forecast.nc\"\n",
    "ncname_rain_final=\"/Users/sabinmaharjan/projects/python/do/static/file/2.nc\"\n",
    "thong_3=\"/Users/sabinmaharjan/projects/python/do/static/file/thong/droughtoutlook_3m.nc\"\n",
    "thong_1=\"/Users/sabinmaharjan/projects/python/do/static/file/thong/droughtoutlook_1m.nc\""
   ]
  },
  {
   "cell_type": "code",
   "execution_count": 28,
   "metadata": {},
   "outputs": [],
   "source": [
    "ds2 = xr.open_dataset(ncname_rain)  # Get longitude and latitude\n",
    "ds2 = xr.open_dataset(ncname_rain)\n",
    "\n",
    "# Get longitude and latitude\n",
    "lon_r = ds2[\"lon\"].values\n",
    "lat_r = ds2[\"lat\"].values\n",
    "\n",
    "# Get rain\n",
    "dname2 = \"percentage_of_ensembles\"\n",
    "rain_array = ds2[dname2].values\n",
    "nbins = 2\n",
    "time = 1\n",
    "\n",
    "# Get slices\n",
    "rain_slice = rain_array[nbins - 1, time - 1, :, :]\n",
    "rain_vec = np.ravel(rain_slice)\n",
    "\n",
    "# Create DataFrame for rain data\n",
    "lon_grid, lat_grid = np.meshgrid(lon_r, lat_r)\n",
    "rain_df = pd.DataFrame({'lat': lat_grid.flatten(), 'lon': lon_grid.flatten(), 'rain': rain_vec})\n",
    "\n",
    "# Clean Data (Optional)\n",
    "# rain_df = rain_df.replace(np.nan, 'NA', regex=True)\n",
    "\n",
    "# Convert time value to a datetime object\n",
    "time_r = ds2[\"time\"][time - 1].values\n",
    "time_r = pd.to_datetime(time_r)\n",
    "\n",
    "# Extract month name from datetime object\n",
    "month_name = time_r.strftime('%B')\n",
    "# Create a new Dataset\n",
    "ds_new = xr.Dataset({\n",
    "    'rain': (('lat', 'lon'), rain_slice),\n",
    "    'lat': (('lat'), lat_r),\n",
    "    'lon': (('lon'), lon_r),\n",
    "})\n",
    "\n",
    "# Add global attributes if needed\n",
    "ds_new.attrs['title'] = 'Rainfall Data'\n",
    "ds_new.attrs['description'] = 'Rainfall data extracted from ...'\n",
    "# Add more attributes as needed\n",
    "ds_new['time'] = (('time'), [time_r])\n",
    "# Save the Dataset to a NetCDF file\n",
    "output_nc_file = \"/Users/sabinmaharjan/projects/python/do/static/file/2024_\"+month_name+'_forecast.nc'\n",
    "\n",
    "\n",
    "ds_new.to_netcdf(output_nc_file)\n"
   ]
  },
  {
   "cell_type": "markdown",
   "metadata": {},
   "source": [
    "# 3 months"
   ]
  },
  {
   "cell_type": "code",
   "execution_count": 27,
   "metadata": {},
   "outputs": [
    {
     "name": "stdout",
     "output_type": "stream",
     "text": [
      "Averaged rain forecast file saved as: /Users/sabinmaharjan/projects/python/do/static/file/2024_May_avg_forecast.nc\n"
     ]
    }
   ],
   "source": [
    "# Open the rain forecast data\n",
    "ds2 = xr.open_dataset(ncname_rain)\n",
    "rain_var = ds2[\"percentage_of_ensembles\"]\n",
    " \n",
    "# Extract the data for the first three months\n",
    "first_three_months = rain_var[1, :3, :, :]\n",
    " \n",
    "# Calculate the average across the first three months\n",
    "rain_avg = first_three_months.mean(dim=\"time\")\n",
    " \n",
    "# Get the latitude and longitude coordinates\n",
    "lats = ds2.lat\n",
    "lons = ds2.lon\n",
    " \n",
    "# Create a new Dataset with the averaged rain data\n",
    "ds_avg = xr.Dataset(\n",
    "    {\n",
    "        \"rain\": ((\"lat\", \"lon\"), rain_avg.values),\n",
    "    },\n",
    "    coords={\"lat\": lats, \"lon\": lons},\n",
    ")\n",
    "ds_avg['time'] = (('time'), [time_r])\n",
    "# Save the new Dataset as a NetCDF file\n",
    "out_ncname = \"/Users/sabinmaharjan/projects/python/do/static/file/2024_\"+month_name+'_avg_forecast.nc'\n",
    "ds_avg.to_netcdf(out_ncname)\n",
    "\n",
    "print(f\"Averaged rain forecast file saved as: {out_ncname}\")"
   ]
  }
 ],
 "metadata": {
  "kernelspec": {
   "display_name": "Python 3",
   "language": "python",
   "name": "python3"
  },
  "language_info": {
   "codemirror_mode": {
    "name": "ipython",
    "version": 3
   },
   "file_extension": ".py",
   "mimetype": "text/x-python",
   "name": "python",
   "nbconvert_exporter": "python",
   "pygments_lexer": "ipython3",
   "version": "3.10.13"
  }
 },
 "nbformat": 4,
 "nbformat_minor": 2
}
